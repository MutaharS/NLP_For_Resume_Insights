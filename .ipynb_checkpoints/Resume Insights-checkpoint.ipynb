{
 "cells": [
  {
   "cell_type": "markdown",
   "id": "de993b4a",
   "metadata": {},
   "source": [
    "# 1. Read Resume"
   ]
  },
  {
   "cell_type": "code",
   "execution_count": 25,
   "id": "3f6ac57b",
   "metadata": {
    "scrolled": true
   },
   "outputs": [
    {
     "name": "stdout",
     "output_type": "stream",
     "text": [
      "Collecting tika\n",
      "  Downloading tika-1.24.tar.gz (28 kB)\n",
      "Requirement already satisfied: setuptools in /Library/Frameworks/Python.framework/Versions/3.9/lib/python3.9/site-packages (from tika) (49.2.1)\n",
      "Requirement already satisfied: requests in /Library/Frameworks/Python.framework/Versions/3.9/lib/python3.9/site-packages (from tika) (2.25.1)\n",
      "Requirement already satisfied: certifi>=2017.4.17 in /Library/Frameworks/Python.framework/Versions/3.9/lib/python3.9/site-packages (from requests->tika) (2021.5.30)\n",
      "Requirement already satisfied: chardet<5,>=3.0.2 in /Library/Frameworks/Python.framework/Versions/3.9/lib/python3.9/site-packages (from requests->tika) (4.0.0)\n",
      "Requirement already satisfied: idna<3,>=2.5 in /Library/Frameworks/Python.framework/Versions/3.9/lib/python3.9/site-packages (from requests->tika) (2.10)\n",
      "Requirement already satisfied: urllib3<1.27,>=1.21.1 in /Library/Frameworks/Python.framework/Versions/3.9/lib/python3.9/site-packages (from requests->tika) (1.26.4)\n",
      "Building wheels for collected packages: tika\n",
      "  Building wheel for tika (setup.py) ... \u001b[?25ldone\n",
      "\u001b[?25h  Created wheel for tika: filename=tika-1.24-py3-none-any.whl size=32884 sha256=09af79638711e8f6dcb66562d6b6fcb6f5d26f1aaba47a1c8dd5fb5d7286618f\n",
      "  Stored in directory: /Users/syeda/Library/Caches/pip/wheels/ec/76/38/0e4b92d8a3a89cbfff5be03a40c02d15b2072b1b08ebf28d6a\n",
      "Successfully built tika\n",
      "Installing collected packages: tika\n",
      "Successfully installed tika-1.24\n",
      "\u001b[33mWARNING: You are using pip version 21.1.2; however, version 21.2.4 is available.\n",
      "You should consider upgrading via the '/Library/Frameworks/Python.framework/Versions/3.9/bin/python3 -m pip install --upgrade pip' command.\u001b[0m\n"
     ]
    }
   ],
   "source": [
    "!pip3 install tika"
   ]
  },
  {
   "cell_type": "code",
   "execution_count": 26,
   "id": "d4198d92",
   "metadata": {},
   "outputs": [],
   "source": [
    "from tika import parser"
   ]
  },
  {
   "cell_type": "code",
   "execution_count": 30,
   "id": "cea2bd50",
   "metadata": {},
   "outputs": [
    {
     "name": "stderr",
     "output_type": "stream",
     "text": [
      "2021-09-06 19:09:06,450 [MainThread  ] [INFO ]  Retrieving http://search.maven.org/remotecontent?filepath=org/apache/tika/tika-server/1.24/tika-server-1.24.jar to /var/folders/jm/z1s8ymlj2yb0glvtys2htwlm0000gq/T/tika-server.jar.\n",
      "2021-09-06 19:09:09,696 [MainThread  ] [INFO ]  Retrieving http://search.maven.org/remotecontent?filepath=org/apache/tika/tika-server/1.24/tika-server-1.24.jar.md5 to /var/folders/jm/z1s8ymlj2yb0glvtys2htwlm0000gq/T/tika-server.jar.md5.\n",
      "2021-09-06 19:09:10,207 [MainThread  ] [WARNI]  Failed to see startup log message; retrying...\n"
     ]
    },
    {
     "name": "stdout",
     "output_type": "stream",
     "text": [
      "\n",
      "\n",
      "\n",
      "\n",
      "\n",
      "\n",
      "\n",
      "\n",
      "\n",
      "\n",
      "\n",
      "\n",
      "\n",
      "\n",
      "\n",
      "\n",
      "\n",
      "\n",
      "\n",
      "\n",
      "\n",
      "\n",
      "\n",
      "\n",
      "\n",
      "Reddit Resume.docx\n",
      "\n",
      "\n",
      "Syed Shah\n",
      "mutahars014@gmail.com | github.com/MutaharS | mutahars.github.io/ | 813-770-8574\n",
      "\n",
      "EDUCATION\n",
      "B.S. Computer Science (Honors) (Expected) Dec 2021\n",
      "University of South Florida, Tampa, FL GPA:3.98 / 4.00\n",
      "Relevant Coursework: Database Design, Big Data with Hadoop, Software Engineering\n",
      "\n",
      "SKILLS\n",
      "Languages: Python, C++, Java, SQL, HTML, CSS\n",
      "Technologies: PostgreSQL, Django, Bootstrap, AWS\n",
      "Development Tools: Visual Studio Code, pgAdmin, Unity, GitHub\n",
      "Machine Learning: OpenAI Gym, PyRep, TensorFlow, RLlib, Stable Baselines3\n",
      "\n",
      "EXPERIENCE\n",
      "Research Assistant July 2020 - Present\n",
      "Robot Perception and Action Lab, Tampa, FL\n",
      "\n",
      "● Designed a reinforcement learning environment to train a neural network and optimized\n",
      "the architecture increasing successful trials from 74% to 89%\n",
      "\n",
      "● Analysis on data between force readings and the number of grasped object in a robotic\n",
      "hand utilizing Python and Scikit-Learn, which was presented in International Conference\n",
      "on Intelligent Robotics (IROS 2021)\n",
      "\n",
      "● Developed the front-end and back-end for a WAMP stack web survey for hypothesis\n",
      "testing purposes with survey randomization for user reusability, accomplished with\n",
      "dynamic content management via PHP\n",
      "\n",
      "PERSONAL PROJECTS\n",
      "Conference Paper Management System - https://github.com/MutaharS/CPMS\n",
      "\n",
      "● Performed requirements and design analyses to develop a web-based software system\n",
      "with Django for paper submission and grading of papers through a user friendly UI\n",
      "\n",
      "● Generated entity-relationship models and optimized database architecture through\n",
      "normalization (3NF) to conform to standard backend design practices\n",
      "\n",
      "Library Management System - https://github.com/MutaharS/LibrarySystem\n",
      "● Customized table access privileges and sanitized form inputs to prevent SQL injections\n",
      "\n",
      "and enforce database integrity and security\n",
      "● Decreased access times by 87.5% for frequently selected attributes using indexing\n",
      "● Hashed user passwords prior to storage into database to secure sensitive data\n",
      "● Performed robust unit testing throughout the SDLC with Git used for version control\n",
      "\n",
      "Compiler - https://github.com/MutaharS/DJ2DISM-Compiler\n",
      "● Developed a compiler for the Diminished Java (DJ) programming language, using Flex\n",
      "\n",
      "to generate a lexical analyzer and GNU Bison to create a parsing table\n",
      "● Implemented a symbol table to check for syntax errors and a code-generator that\n",
      "\n",
      "converts abstract syntax trees into Diminished Instruction Set Machine (DISM)\n",
      "programs, which is a RISC-style Instruction Set Architecture\n",
      "\n",
      "WebGL Game - https://simmer.io/@syedshah/plip-plop\n",
      "● Created graphical assets and designed UI within the Unity engine\n",
      "● Wrote scripts to handle player and non-player unit movements, collision checking, and\n",
      "\n",
      "display transitions for the user\n",
      "\n",
      "https://github.com/MutaharS\n",
      "https://mutahars.github.io/\n",
      "https://github.com/MutaharS/CPMS\n",
      "https://github.com/MutaharS/LibrarySystem\n",
      "https://github.com/MutaharS/DJ2DISM-Compiler\n",
      "https://simmer.io/@syedshah/plip-plop\n",
      "\n",
      "\n"
     ]
    }
   ],
   "source": [
    "resume_file_path = \"resume.pdf\"\n",
    "raw = parser.from_file(resume_file_path)\n",
    "print(raw['content'])"
   ]
  },
  {
   "cell_type": "markdown",
   "id": "49e5f8bf",
   "metadata": {},
   "source": [
    "### 1.1 Preprocessing - Removing Special Characters"
   ]
  },
  {
   "cell_type": "code",
   "execution_count": 83,
   "id": "a404bde0",
   "metadata": {},
   "outputs": [],
   "source": [
    "resume = raw['content']"
   ]
  },
  {
   "cell_type": "code",
   "execution_count": 85,
   "id": "f7ccb2b8",
   "metadata": {},
   "outputs": [
    {
     "name": "stdout",
     "output_type": "stream",
     "text": [
      "Reddit Resume.docx\n",
      "\n",
      "\n",
      "Syed Shah\n",
      "mutahars014@gmail.com  github.com/MutaharS  mutahars.github.io/  813-770-8574\n",
      "\n",
      "EDUCATION\n",
      "B.S. Computer Science (Honors) (Expected) Dec 2021\n",
      "University of South Florida, Tampa, FL GPA:3.98 / 4.00\n",
      "Relevant Coursework: Database Design, Big Data with Hadoop, Software Engineering\n",
      "\n",
      "SKILLS\n",
      "Languages: Python, C++, Java, SQL, HTML, CSS\n",
      "Technologies: PostgreSQL, Django, Bootstrap, AWS\n",
      "Development Tools: Visual Studio Code, pgAdmin, Unity, GitHub\n",
      "Machine Learning: OpenAI Gym, PyRep, TensorFlow, RLlib, Stable Baselines3\n",
      "\n",
      "EXPERIENCE\n",
      "Research Assistant July 2020 - Present\n",
      "Robot Perception and Action Lab, Tampa, FL\n",
      "\n",
      " Designed a reinforcement learning environment to train a neural network and optimized\n",
      "the architecture increasing successful trials from 74% to 89%\n",
      "\n",
      " Analysis on data between force readings and the number of grasped object in a robotic\n",
      "hand utilizing Python and Scikit-Learn, which was presented in International Conference\n",
      "on Intelligent Robotics (IROS 2021)\n",
      "\n",
      " Developed the front-end and back-end for a WAMP stack web survey for hypothesis\n",
      "testing purposes with survey randomization for user reusability, accomplished with\n",
      "dynamic content management via PHP\n",
      "\n",
      "PERSONAL PROJECTS\n",
      "Conference Paper Management System - https://github.com/MutaharS/CPMS\n",
      "\n",
      " Performed requirements and design analyses to develop a web-based software system\n",
      "with Django for paper submission and grading of papers through a user friendly UI\n",
      "\n",
      " Generated entity-relationship models and optimized database architecture through\n",
      "normalization (3NF) to conform to standard backend design practices\n",
      "\n",
      "Library Management System - https://github.com/MutaharS/LibrarySystem\n",
      " Customized table access privileges and sanitized form inputs to prevent SQL injections\n",
      "\n",
      "and enforce database integrity and security\n",
      " Decreased access times by 87.5% for frequently selected attributes using indexing\n",
      " Hashed user passwords prior to storage into database to secure sensitive data\n",
      " Performed robust unit testing throughout the SDLC with Git used for version control\n",
      "\n",
      "Compiler - https://github.com/MutaharS/DJ2DISM-Compiler\n",
      " Developed a compiler for the Diminished Java (DJ) programming language, using Flex\n",
      "\n",
      "to generate a lexical analyzer and GNU Bison to create a parsing table\n",
      " Implemented a symbol table to check for syntax errors and a code-generator that\n",
      "\n",
      "converts abstract syntax trees into Diminished Instruction Set Machine (DISM)\n",
      "programs, which is a RISC-style Instruction Set Architecture\n",
      "\n",
      "WebGL Game - https://simmer.io/@syedshah/plip-plop\n",
      " Created graphical assets and designed UI within the Unity engine\n",
      " Wrote scripts to handle player and non-player unit movements, collision checking, and\n",
      "\n",
      "display transitions for the user\n",
      "\n",
      "https://github.com/MutaharS\n",
      "https://mutahars.github.io/\n",
      "https://github.com/MutaharS/CPMS\n",
      "https://github.com/MutaharS/LibrarySystem\n",
      "https://github.com/MutaharS/DJ2DISM-Compiler\n",
      "https://simmer.io/@syedshah/plip-plop\n",
      "\n",
      "\n"
     ]
    }
   ],
   "source": [
    "resume = text.replace('●', '')\n",
    "resume = text.replace('|', '')\n",
    "i = 0\n",
    "for ch in resume:\n",
    "    if ch == '\\n':\n",
    "        i += 1\n",
    "    else:\n",
    "        break\n",
    "resume = resume[i:]\n",
    "print(resume)"
   ]
  },
  {
   "cell_type": "markdown",
   "id": "c8b2d509",
   "metadata": {},
   "source": [
    "# 2. Import and Authenticate to Service"
   ]
  },
  {
   "cell_type": "code",
   "execution_count": 57,
   "id": "e084e771",
   "metadata": {
    "scrolled": true
   },
   "outputs": [
    {
     "name": "stdout",
     "output_type": "stream",
     "text": [
      "Collecting ibm_watson\n",
      "  Downloading ibm-watson-5.2.3.tar.gz (406 kB)\n",
      "\u001b[K     |████████████████████████████████| 406 kB 2.9 MB/s eta 0:00:01\n",
      "\u001b[?25h  Installing build dependencies ... \u001b[?25ldone\n",
      "\u001b[?25h  Getting requirements to build wheel ... \u001b[?25ldone\n",
      "\u001b[?25h    Preparing wheel metadata ... \u001b[?25ldone\n",
      "\u001b[?25hCollecting websocket-client==1.1.0\n",
      "  Downloading websocket_client-1.1.0-py2.py3-none-any.whl (68 kB)\n",
      "\u001b[K     |████████████████████████████████| 68 kB 12.0 MB/s eta 0:00:01\n",
      "\u001b[?25hCollecting ibm-cloud-sdk-core==3.*,>=3.3.6\n",
      "  Downloading ibm-cloud-sdk-core-3.11.3.tar.gz (45 kB)\n",
      "\u001b[K     |████████████████████████████████| 45 kB 6.1 MB/s  eta 0:00:01\n",
      "\u001b[?25hRequirement already satisfied: python-dateutil>=2.5.3 in /Library/Frameworks/Python.framework/Versions/3.9/lib/python3.9/site-packages (from ibm_watson) (2.8.1)\n",
      "Requirement already satisfied: requests<3.0,>=2.0 in /Library/Frameworks/Python.framework/Versions/3.9/lib/python3.9/site-packages (from ibm_watson) (2.25.1)\n",
      "Collecting PyJWT<3.0.0,>=2.0.1\n",
      "  Downloading PyJWT-2.1.0-py3-none-any.whl (16 kB)\n",
      "Requirement already satisfied: six>=1.5 in /Users/syeda/Library/Python/3.9/lib/python/site-packages (from python-dateutil>=2.5.3->ibm_watson) (1.15.0)\n",
      "Requirement already satisfied: idna<3,>=2.5 in /Library/Frameworks/Python.framework/Versions/3.9/lib/python3.9/site-packages (from requests<3.0,>=2.0->ibm_watson) (2.10)\n",
      "Requirement already satisfied: urllib3<1.27,>=1.21.1 in /Library/Frameworks/Python.framework/Versions/3.9/lib/python3.9/site-packages (from requests<3.0,>=2.0->ibm_watson) (1.26.4)\n",
      "Requirement already satisfied: chardet<5,>=3.0.2 in /Library/Frameworks/Python.framework/Versions/3.9/lib/python3.9/site-packages (from requests<3.0,>=2.0->ibm_watson) (4.0.0)\n",
      "Requirement already satisfied: certifi>=2017.4.17 in /Library/Frameworks/Python.framework/Versions/3.9/lib/python3.9/site-packages (from requests<3.0,>=2.0->ibm_watson) (2021.5.30)\n",
      "Building wheels for collected packages: ibm-watson, ibm-cloud-sdk-core\n",
      "  Building wheel for ibm-watson (PEP 517) ... \u001b[?25ldone\n",
      "\u001b[?25h  Created wheel for ibm-watson: filename=ibm_watson-5.2.3-py3-none-any.whl size=403336 sha256=fa2590104727b45123e8dc7eaf0a4f30dc9480eda173c024fffa50e85035d372\n",
      "  Stored in directory: /Users/syeda/Library/Caches/pip/wheels/38/28/af/cdd8d3d465935467794715208d453fa63ae7c15f76f3f7016b\n",
      "  Building wheel for ibm-cloud-sdk-core (setup.py) ... \u001b[?25ldone\n",
      "\u001b[?25h  Created wheel for ibm-cloud-sdk-core: filename=ibm_cloud_sdk_core-3.11.3-py3-none-any.whl size=74742 sha256=858b7ce5743186e90caceda570e706736d46dcc3d07ba4d114e3a6ae22dce4d1\n",
      "  Stored in directory: /Users/syeda/Library/Caches/pip/wheels/f2/ed/d9/b80e9d38949783c71f2e3cd98a015e243de86529af17ab3e00\n",
      "Successfully built ibm-watson ibm-cloud-sdk-core\n",
      "Installing collected packages: PyJWT, websocket-client, ibm-cloud-sdk-core, ibm-watson\n",
      "Successfully installed PyJWT-2.1.0 ibm-cloud-sdk-core-3.11.3 ibm-watson-5.2.3 websocket-client-1.1.0\n",
      "\u001b[33mWARNING: You are using pip version 21.1.2; however, version 21.2.4 is available.\n",
      "You should consider upgrading via the '/Library/Frameworks/Python.framework/Versions/3.9/bin/python3 -m pip install --upgrade pip' command.\u001b[0m\n"
     ]
    }
   ],
   "source": [
    "!pip3 install ibm_watson"
   ]
  },
  {
   "cell_type": "code",
   "execution_count": 97,
   "id": "5201ffcf",
   "metadata": {},
   "outputs": [],
   "source": [
    "# Import Dependencies\n",
    "import json\n",
    "from ibm_watson import NaturalLanguageUnderstandingV1\n",
    "from ibm_cloud_sdk_core.authenticators import IAMAuthenticator\n",
    "from ibm_watson.natural_language_understanding_v1 import Features,CategoriesOptions,EmotionOptions,KeywordsOptions\n",
    "from ibm_watson.natural_language_understanding_v1 import SentimentOptions"
   ]
  },
  {
   "cell_type": "code",
   "execution_count": 66,
   "id": "cc1d9f5d",
   "metadata": {},
   "outputs": [],
   "source": [
    "# Credentials for connecting to Watson API\n",
    "IAM_KEY = 'dqx94euSMV51Mr93NDzo_JBSmSr73XhdQriCHkTWPsV3'\n",
    "SERVICE_URL = \"\"\"https://api.us-south.natural-language-understanding.watson.cloud.ibm.com/instances/0b6ebdcc-e92f-4d9e-bc8a-91d0c46b0381\"\"\""
   ]
  },
  {
   "cell_type": "markdown",
   "id": "411ed87c",
   "metadata": {},
   "source": [
    "### 2.1 Test NLU APIs"
   ]
  },
  {
   "cell_type": "code",
   "execution_count": 67,
   "id": "b93dbdf2",
   "metadata": {
    "scrolled": true
   },
   "outputs": [
    {
     "name": "stdout",
     "output_type": "stream",
     "text": [
      "{\n",
      "  \"usage\": {\n",
      "    \"text_units\": 1,\n",
      "    \"text_characters\": 1385,\n",
      "    \"features\": 1\n",
      "  },\n",
      "  \"retrieved_url\": \"https://www.ibm.com/us-en/?ar=1\",\n",
      "  \"language\": \"en\",\n",
      "  \"categories\": [\n",
      "    {\n",
      "      \"score\": 0.939719,\n",
      "      \"label\": \"/technology and computing/operating systems\"\n",
      "    },\n",
      "    {\n",
      "      \"score\": 0.936364,\n",
      "      \"label\": \"/business and industrial/business software\"\n",
      "    },\n",
      "    {\n",
      "      \"score\": 0.900221,\n",
      "      \"label\": \"/business and industrial/automation\"\n",
      "    }\n",
      "  ]\n",
      "}\n"
     ]
    }
   ],
   "source": [
    "authenticator = IAMAuthenticator(IAM_KEY)\n",
    "natural_language_understanding = NaturalLanguageUnderstandingV1(version='2020-08-01',authenticator=authenticator)\n",
    "\n",
    "natural_language_understanding.set_service_url(SERVICE_URL)\n",
    "\n",
    "response = natural_language_understanding.analyze(\n",
    "    url='www.ibm.com',\n",
    "    features=Features(categories=CategoriesOptions(limit=3))).get_result()\n",
    "\n",
    "print(json.dumps(response, indent=2))"
   ]
  },
  {
   "cell_type": "markdown",
   "id": "6d781d91",
   "metadata": {},
   "source": [
    "# 3. Analyze the Data"
   ]
  },
  {
   "cell_type": "code",
   "execution_count": 106,
   "id": "762be2c3",
   "metadata": {},
   "outputs": [],
   "source": [
    "sentiment_list = ['Software','SDLC','Database','Hadoop','Optimize','Python','Data Science']"
   ]
  },
  {
   "cell_type": "code",
   "execution_count": 107,
   "id": "8a601dd0",
   "metadata": {},
   "outputs": [],
   "source": [
    "response = natural_language_understanding.analyze(\n",
    "    text=resume,\n",
    "    features=Features(\n",
    "        keywords=KeywordsOptions(emotion=False, sentiment=False,limit=10),\n",
    "        sentiment=SentimentOptions(targets=sentiment_list),\n",
    "    )).get_result()"
   ]
  },
  {
   "cell_type": "code",
   "execution_count": 108,
   "id": "750649a9",
   "metadata": {
    "scrolled": true
   },
   "outputs": [
    {
     "name": "stdout",
     "output_type": "stream",
     "text": [
      "{\n",
      "  \"usage\": {\n",
      "    \"text_units\": 1,\n",
      "    \"text_characters\": 2947,\n",
      "    \"features\": 2\n",
      "  },\n",
      "  \"sentiment\": {\n",
      "    \"targets\": [\n",
      "      {\n",
      "        \"text\": \"Software\",\n",
      "        \"score\": 0.691889,\n",
      "        \"label\": \"positive\"\n",
      "      },\n",
      "      {\n",
      "        \"text\": \"SDLC\",\n",
      "        \"score\": 0,\n",
      "        \"label\": \"neutral\"\n",
      "      },\n",
      "      {\n",
      "        \"text\": \"Database\",\n",
      "        \"score\": 0.573875,\n",
      "        \"label\": \"positive\"\n",
      "      },\n",
      "      {\n",
      "        \"text\": \"Hadoop\",\n",
      "        \"score\": 0.573875,\n",
      "        \"label\": \"positive\"\n",
      "      },\n",
      "      {\n",
      "        \"text\": \"Python\",\n",
      "        \"score\": 0,\n",
      "        \"label\": \"neutral\"\n",
      "      }\n",
      "    ],\n",
      "    \"document\": {\n",
      "      \"score\": 0.681522,\n",
      "      \"label\": \"positive\"\n",
      "    }\n",
      "  },\n",
      "  \"language\": \"en\",\n",
      "  \"keywords\": [\n",
      "    {\n",
      "      \"text\": \"Database Design\",\n",
      "      \"relevance\": 0.637374,\n",
      "      \"count\": 1\n",
      "    },\n",
      "    {\n",
      "      \"text\": \"lexical analyzer\",\n",
      "      \"relevance\": 0.574975,\n",
      "      \"count\": 1\n",
      "    },\n",
      "    {\n",
      "      \"text\": \"table access privileges\",\n",
      "      \"relevance\": 0.574495,\n",
      "      \"count\": 1\n",
      "    },\n",
      "    {\n",
      "      \"text\": \"front-end\",\n",
      "      \"relevance\": 0.571274,\n",
      "      \"count\": 1\n",
      "    },\n",
      "    {\n",
      "      \"text\": \"programming language\",\n",
      "      \"relevance\": 0.564613,\n",
      "      \"count\": 1\n",
      "    },\n",
      "    {\n",
      "      \"text\": \"design analyses\",\n",
      "      \"relevance\": 0.559697,\n",
      "      \"count\": 1\n",
      "    },\n",
      "    {\n",
      "      \"text\": \"paper submission\",\n",
      "      \"relevance\": 0.55187,\n",
      "      \"count\": 1\n",
      "    },\n",
      "    {\n",
      "      \"text\": \"Relevant Coursework\",\n",
      "      \"relevance\": 0.550877,\n",
      "      \"count\": 1\n",
      "    },\n",
      "    {\n",
      "      \"text\": \"International Conference\",\n",
      "      \"relevance\": 0.543504,\n",
      "      \"count\": 1\n",
      "    },\n",
      "    {\n",
      "      \"text\": \"GNU Bison\",\n",
      "      \"relevance\": 0.54299,\n",
      "      \"count\": 1\n",
      "    }\n",
      "  ]\n",
      "}\n"
     ]
    }
   ],
   "source": [
    "print(json.dumps(response, indent=2))"
   ]
  },
  {
   "cell_type": "code",
   "execution_count": 109,
   "id": "1844e5f0",
   "metadata": {},
   "outputs": [],
   "source": [
    "import pandas as pd"
   ]
  },
  {
   "cell_type": "code",
   "execution_count": 110,
   "id": "981415a8",
   "metadata": {},
   "outputs": [],
   "source": [
    "df = pd.DataFrame(response['keywords'])"
   ]
  },
  {
   "cell_type": "code",
   "execution_count": 111,
   "id": "dfd8d4b2",
   "metadata": {},
   "outputs": [
    {
     "name": "stdout",
     "output_type": "stream",
     "text": [
      "                       text  relevance  count\n",
      "0           Database Design   0.637374      1\n",
      "1          lexical analyzer   0.574975      1\n",
      "2   table access privileges   0.574495      1\n",
      "3                 front-end   0.571274      1\n",
      "4      programming language   0.564613      1\n",
      "5           design analyses   0.559697      1\n",
      "6          paper submission   0.551870      1\n",
      "7       Relevant Coursework   0.550877      1\n",
      "8  International Conference   0.543504      1\n",
      "9                 GNU Bison   0.542990      1\n"
     ]
    }
   ],
   "source": [
    "print(df)"
   ]
  },
  {
   "cell_type": "code",
   "execution_count": 121,
   "id": "3b7d25b1",
   "metadata": {},
   "outputs": [],
   "source": [
    "df = pd.DataFrame(response['sentiment']['targets'])"
   ]
  },
  {
   "cell_type": "code",
   "execution_count": 122,
   "id": "5b7ef35c",
   "metadata": {
    "scrolled": true
   },
   "outputs": [
    {
     "name": "stdout",
     "output_type": "stream",
     "text": [
      "       text     score     label\n",
      "0  Software  0.691889  positive\n",
      "1      SDLC  0.000000   neutral\n",
      "2  Database  0.573875  positive\n",
      "3    Hadoop  0.573875  positive\n",
      "4    Python  0.000000   neutral\n"
     ]
    }
   ],
   "source": [
    "print(df)"
   ]
  }
 ],
 "metadata": {
  "kernelspec": {
   "display_name": "Python 3",
   "language": "python",
   "name": "python3"
  },
  "language_info": {
   "codemirror_mode": {
    "name": "ipython",
    "version": 3
   },
   "file_extension": ".py",
   "mimetype": "text/x-python",
   "name": "python",
   "nbconvert_exporter": "python",
   "pygments_lexer": "ipython3",
   "version": "3.9.1"
  }
 },
 "nbformat": 4,
 "nbformat_minor": 5
}
